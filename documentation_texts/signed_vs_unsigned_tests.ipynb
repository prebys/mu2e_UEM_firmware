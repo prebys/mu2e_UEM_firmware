{
 "cells": [
  {
   "cell_type": "code",
   "id": "initial_id",
   "metadata": {
    "collapsed": true,
    "ExecuteTime": {
     "end_time": "2025-01-10T05:16:21.976819Z",
     "start_time": "2025-01-10T05:16:21.948478Z"
    }
   },
   "source": [
    "import struct\n",
    "\n",
    "def signed(value: int, width: int):\n",
    "    \"\"\"Converts an unsigned value to a signed value.\"\"\"\n",
    "    if value >= 2**width:\n",
    "        raise ValueError(f\"Value must be at most {width}-bit{f' ({width//4} bytes)' if width % 4 == 0 else ''}. \"\n",
    "                         f\"Your value {value} / {hex(value)} had {len(bin(value))-2} bits.\")\n",
    "    width = width - 1  # example: for four bit number, shift \"1\" over 4-1=3 to get 1000 (the desired sign bit)\n",
    "    return -(value & (1 << width)) | (value & ((1 << width) - 1))\n",
    "\n",
    "hex_value = 'f4f3f2f1'\n",
    "\n",
    "# Step 1: Convert the hex string to a byte string\n",
    "byte_data = bytes.fromhex(hex_value)  # b'\\xf4\\xf3\\xf2\\xf1'\n",
    "print(byte_data)"
   ],
   "outputs": [
    {
     "name": "stdout",
     "output_type": "stream",
     "text": [
      "b'\\xf4\\xf3\\xf2\\xf1'\n"
     ]
    }
   ],
   "execution_count": 50
  },
  {
   "metadata": {
    "ExecuteTime": {
     "end_time": "2025-01-10T05:16:21.992569Z",
     "start_time": "2025-01-10T05:16:21.976819Z"
    }
   },
   "cell_type": "code",
   "source": [
    "# Step 2: Reconstruct the 32-bit word in little-endian order\n",
    "# Use the unpack function from the struct module to interpret the bytes in little-endian format.\n",
    "try:\n",
    "    # '<' = little-endian, 'f4f3f2f1' would first get converted to 'f1f2f3f4' before being converted to int ('>' = big-endian)\n",
    "    # 'I' = unsigned integer (4-byte, 8 hex chars), 'i' = signed int (4-byte, 8 hex chars)\n",
    "    # 'H' = unsigned short (2-byte, 4 hex chars), 'h' = signed short (2-byte, 4 hex chars)\n",
    "    # https://docs.python.org/3/library/struct.html#format-characters\n",
    "    word_signed: int = struct.unpack('<i', byte_data)[0]  # unpack() returns tuple, here with one element only\n",
    "    word_unsigned: int = struct.unpack('<I', byte_data)[0]  # unpack() returns tuple, here with one element only\n",
    "    # word is the signed interpretation of the full 32-bit word, f1f2f3f4 --> -235736076, NOT simply -0xf1f2f3f4\n",
    "except struct.error:\n",
    "    print(f\"Error: {hex_value} could not be converted to a 32-bit word.\")\n",
    "    raise\n",
    "\n",
    "print(f\"  Signed: {word_signed}, hex: {hex(word_signed)}, binary:    {bin(word_signed)}\")\n",
    "print(f\"Unsigned: {word_unsigned}, hex: {hex(word_unsigned)}, binary: {bin(word_unsigned)}\")"
   ],
   "id": "d115f8132246d647",
   "outputs": [
    {
     "name": "stdout",
     "output_type": "stream",
     "text": [
      "  Signed: -235736076, hex: -0xe0d0c0c, binary:    -0b1110000011010000110000001100\n",
      "Unsigned: 4059231220, hex: 0xf1f2f3f4, binary: 0b11110001111100101111001111110100\n"
     ]
    }
   ],
   "execution_count": 51
  },
  {
   "metadata": {},
   "cell_type": "markdown",
   "source": [
    "### NOTE: In the underlying memory, THESE ARE THE SAME  \n",
    "When you call `bin(x)` on a negative number, it will put a negative sign then just show `bin()` of the positive number  \n",
    "\n",
    "For example, `bin(3) = 0b11`, `bin(-3) = -0b11` \n",
    " \n",
    "But in reality in the underlying memory, `3 = 0b0011`, `-3 = 0b1101` (2's complement, -3 is not actually stored as `-0b11`). \n",
    "\n",
    "This would almost be the same as `13 = 0b1101`, but Python includes further bits above your bits in your number for sign. For example:\n",
    "\n",
    "`13 = 0b[0...0]1101`, `-3 = 0b[1...1]1101`, where [0...0] and [1...1] are the infinite extra bits Python adds for sign\n",
    "\n",
    "so, `-0xE0D0C0C` is the representation of `abs(-235736076)` in hex, with just a negative sign stuck on front  \n",
    "and, `-0b1110_0000_1101_0000_1100_0000_1100` is the representation of `abs(-235736076)` in binary, with a neg. sign too\n",
    "\n",
    "Up to 32 bits, `-235736076` = `4059231220`, they are only distinguished starting at the 33rd bit\n",
    "\n",
    "Equality of the lower 32 bits can be shown: `-235736076 & 0xFFFFFFFF = 4059231220`\n",
    "\n",
    "the 33rd bit can be shown: `hex(-235736076 & (1 << 32)) = 0x1_0000_0000`, `hex(4059231220 & (1 << 32)) = 0x0_0000_0000`)\n"
   ],
   "id": "55ea65a3d6f41ede"
  },
  {
   "metadata": {
    "ExecuteTime": {
     "end_time": "2025-01-10T05:16:22.008573Z",
     "start_time": "2025-01-10T05:16:21.993557Z"
    }
   },
   "cell_type": "code",
   "source": [
    "print(\"Lower 32 bits of -235736076 equals 4059231220      :  \", -235736076 & 0xFFFFFFFF, \"==\", 4059231220)\n",
    "print(\"33rd bit for negative number 32-bit number is '1'  :  \", f\"{hex(-235736076 & (1 << 32))=}\")\n",
    "print(\"33rd bit for positive number 32-bit number is '0'  :  \", f\"{hex(4059231220 & (1 << 32))=}\")"
   ],
   "id": "876974419db8fdff",
   "outputs": [
    {
     "name": "stdout",
     "output_type": "stream",
     "text": [
      "Lower 32 bits of -235736076 equals 4059231220      :   4059231220 == 4059231220\n",
      "33rd bit for negative number 32-bit number is '1'  :   hex(-235736076 & (1 << 32))='0x100000000'\n",
      "33rd bit for positive number 32-bit number is '0'  :   hex(4059231220 & (1 << 32))='0x0'\n"
     ]
    }
   ],
   "execution_count": 52
  },
  {
   "metadata": {},
   "cell_type": "markdown",
   "source": "### Because the underlying memory is the same, the following steps will all produce the same results.",
   "id": "e1baaef133915b1c"
  },
  {
   "metadata": {
    "ExecuteTime": {
     "end_time": "2025-01-10T05:16:22.024733Z",
     "start_time": "2025-01-10T05:16:22.008573Z"
    }
   },
   "cell_type": "code",
   "source": [
    "# Step 3: Extract the first ADC value (lower 16 bits of `word`)\n",
    "signed_adc1: int = ((word_signed & 0xFFF0) >> 4)  # Get upper 12 bits, shift right by 4 to be lowest 12 bits\n",
    "signed_adc1_final = signed(signed_adc1, 12)\n",
    "\n",
    "unsigned_adc1: int = ((word_unsigned & 0xFFF0) >> 4)  # Get upper 12 bits, shift right by 4 to be lowest 12 bits\n",
    "unsigned_adc1_final = signed(unsigned_adc1, 12)\n",
    "\n",
    "print(f\"  Signed ADC1: {signed_adc1}, hex: {hex(signed_adc1)}, binary: {bin(signed_adc1)}\")\n",
    "print(f\"Unsigned ADC1: {unsigned_adc1}, hex: {hex(unsigned_adc1)}, binary: {bin(unsigned_adc1)}\")\n",
    "print()\n",
    "print(f\"  Signed ADC1 final: {signed_adc1_final}, hex: {hex(signed_adc1_final)}, binary: {bin(signed_adc1_final)}\")\n",
    "print(f\"Unsigned ADC1 final: {unsigned_adc1_final}, hex: {hex(unsigned_adc1_final)}, binary: {bin(unsigned_adc1_final)}\")"
   ],
   "id": "3f646cf5f973f210",
   "outputs": [
    {
     "name": "stdout",
     "output_type": "stream",
     "text": [
      "  Signed ADC1: 3903, hex: 0xf3f, binary: 0b111100111111\n",
      "Unsigned ADC1: 3903, hex: 0xf3f, binary: 0b111100111111\n",
      "\n",
      "  Signed ADC1 final: -193, hex: -0xc1, binary: -0b11000001\n",
      "Unsigned ADC1 final: -193, hex: -0xc1, binary: -0b11000001\n"
     ]
    }
   ],
   "execution_count": 53
  },
  {
   "metadata": {
    "ExecuteTime": {
     "end_time": "2025-01-10T05:16:22.040365Z",
     "start_time": "2025-01-10T05:16:22.024733Z"
    }
   },
   "cell_type": "code",
   "source": [
    "# Step 4: Extract the second ADC value (upper 16 bits of `word`)\n",
    "signed_adc2: int = (((word_signed >> 16) & 0xFFF0) >> 4)  # Shift right 16 bits, mask, then shift right 4 again\n",
    "signed_adc2_final = signed(signed_adc1, 12)\n",
    "\n",
    "unsigned_adc2: int = (((word_unsigned >> 16) & 0xFFF0) >> 4)  # Shift right 16 bits, mask, then shift right 4 again\n",
    "unsigned_adc2_final = signed(unsigned_adc1, 12)\n",
    "\n",
    "print(f\"  Signed ADC2: {signed_adc2}, hex: {hex(signed_adc2)}, binary: {bin(signed_adc2)}\")\n",
    "print(f\"Unsigned ADC2: {unsigned_adc2}, hex: {hex(unsigned_adc2)}, binary: {bin(unsigned_adc2)}\")\n",
    "print()\n",
    "print(f\"  Signed ADC2 final: {signed_adc2_final}, hex: {hex(signed_adc2_final)}, binary: {bin(signed_adc2_final)}\")\n",
    "print(f\"Unsigned ADC2 final: {unsigned_adc2_final}, hex: {hex(unsigned_adc2_final)}, binary: {bin(unsigned_adc2_final)}\")"
   ],
   "id": "531f913e0883a2cd",
   "outputs": [
    {
     "name": "stdout",
     "output_type": "stream",
     "text": [
      "  Signed ADC2: 3871, hex: 0xf1f, binary: 0b111100011111\n",
      "Unsigned ADC2: 3871, hex: 0xf1f, binary: 0b111100011111\n",
      "\n",
      "  Signed ADC2 final: -193, hex: -0xc1, binary: -0b11000001\n",
      "Unsigned ADC2 final: -193, hex: -0xc1, binary: -0b11000001\n"
     ]
    }
   ],
   "execution_count": 54
  }
 ],
 "metadata": {
  "kernelspec": {
   "display_name": "Python 3",
   "language": "python",
   "name": "python3"
  },
  "language_info": {
   "codemirror_mode": {
    "name": "ipython",
    "version": 2
   },
   "file_extension": ".py",
   "mimetype": "text/x-python",
   "name": "python",
   "nbconvert_exporter": "python",
   "pygments_lexer": "ipython2",
   "version": "2.7.6"
  }
 },
 "nbformat": 4,
 "nbformat_minor": 5
}
